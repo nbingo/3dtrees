{
 "cells": [
  {
   "cell_type": "code",
   "execution_count": 1,
   "metadata": {},
   "outputs": [],
   "source": [
    "from BatchAgglomerate3D import BatchAgglomerate3D, TREE_SCORE_OPTIONS\n",
    "from data_utils import read_data\n",
    "from metric_utils import *\n",
    "import pandas as pd\n",
    "import seaborn as sns\n",
    "import numpy as np\n",
    "pd.options.display.width = 0"
   ]
  },
  {
   "cell_type": "code",
   "execution_count": 5,
   "metadata": {
    "pycharm": {
     "name": "#%%\n"
    }
   },
   "outputs": [
    {
     "name": "stderr",
     "output_type": "stream",
     "text": [
      "100%|██████████| 580/580 [00:24<00:00, 23.35it/s]\n",
      "100%|██████████| 580/580 [00:08<00:00, 65.61it/s]\n"
     ]
    }
   ],
   "source": [
    "data = read_data(['mouse'])\n",
    "agglomerate = BatchAgglomerate3D(\n",
    "    cell_type_affinity=[spearmanr_connectivity],\n",
    "    linkage_cell=['complete'],\n",
    "    linkage_region=['homolog_avg'],\n",
    "    max_region_diff=[0, 1],\n",
    "    region_dist_scale=np.arange(0.1, 3, 0.01),\n",
    "    verbose=False\n",
    ")\n",
    "\n",
    "agglomerate.agglomerate(data)\n",
    "all_scores = agglomerate.get_all_scores()"
   ]
  },
  {
   "cell_type": "code",
   "execution_count": 6,
   "metadata": {
    "pycharm": {
     "name": "#%%\n"
    }
   },
   "outputs": [
    {
     "data": {
      "text/html": [
       "<div>\n",
       "<style scoped>\n",
       "    .dataframe tbody tr th:only-of-type {\n",
       "        vertical-align: middle;\n",
       "    }\n",
       "\n",
       "    .dataframe tbody tr th {\n",
       "        vertical-align: top;\n",
       "    }\n",
       "\n",
       "    .dataframe thead th {\n",
       "        text-align: right;\n",
       "    }\n",
       "</style>\n",
       "<table border=\"1\" class=\"dataframe\">\n",
       "  <thead>\n",
       "    <tr style=\"text-align: right;\">\n",
       "      <th></th>\n",
       "      <th>linkage_cell</th>\n",
       "      <th>linkage_region</th>\n",
       "      <th>max_region_diff</th>\n",
       "      <th>region_dist_scale</th>\n",
       "      <th>score metric</th>\n",
       "      <th>score</th>\n",
       "    </tr>\n",
       "  </thead>\n",
       "  <tbody>\n",
       "    <tr>\n",
       "      <th>0</th>\n",
       "      <td>complete</td>\n",
       "      <td>homolog_avg</td>\n",
       "      <td>0</td>\n",
       "      <td>0.15</td>\n",
       "      <td>ME</td>\n",
       "      <td>7.167663</td>\n",
       "    </tr>\n",
       "    <tr>\n",
       "      <th>1</th>\n",
       "      <td>complete</td>\n",
       "      <td>homolog_avg</td>\n",
       "      <td>0</td>\n",
       "      <td>0.15</td>\n",
       "      <td>BME</td>\n",
       "      <td>5.342813</td>\n",
       "    </tr>\n",
       "    <tr>\n",
       "      <th>2</th>\n",
       "      <td>complete</td>\n",
       "      <td>homolog_avg</td>\n",
       "      <td>0</td>\n",
       "      <td>0.15</td>\n",
       "      <td>MP</td>\n",
       "      <td>8.000000</td>\n",
       "    </tr>\n",
       "    <tr>\n",
       "      <th>3</th>\n",
       "      <td>complete</td>\n",
       "      <td>homolog_avg</td>\n",
       "      <td>0</td>\n",
       "      <td>0.13</td>\n",
       "      <td>ME</td>\n",
       "      <td>7.167663</td>\n",
       "    </tr>\n",
       "    <tr>\n",
       "      <th>4</th>\n",
       "      <td>complete</td>\n",
       "      <td>homolog_avg</td>\n",
       "      <td>0</td>\n",
       "      <td>0.13</td>\n",
       "      <td>BME</td>\n",
       "      <td>5.342813</td>\n",
       "    </tr>\n",
       "    <tr>\n",
       "      <th>...</th>\n",
       "      <td>...</td>\n",
       "      <td>...</td>\n",
       "      <td>...</td>\n",
       "      <td>...</td>\n",
       "      <td>...</td>\n",
       "      <td>...</td>\n",
       "    </tr>\n",
       "    <tr>\n",
       "      <th>1735</th>\n",
       "      <td>complete</td>\n",
       "      <td>homolog_avg</td>\n",
       "      <td>1</td>\n",
       "      <td>2.99</td>\n",
       "      <td>BME</td>\n",
       "      <td>4.925282</td>\n",
       "    </tr>\n",
       "    <tr>\n",
       "      <th>1736</th>\n",
       "      <td>complete</td>\n",
       "      <td>homolog_avg</td>\n",
       "      <td>1</td>\n",
       "      <td>2.99</td>\n",
       "      <td>MP</td>\n",
       "      <td>14.000000</td>\n",
       "    </tr>\n",
       "    <tr>\n",
       "      <th>1737</th>\n",
       "      <td>complete</td>\n",
       "      <td>homolog_avg</td>\n",
       "      <td>1</td>\n",
       "      <td>2.98</td>\n",
       "      <td>ME</td>\n",
       "      <td>11.001096</td>\n",
       "    </tr>\n",
       "    <tr>\n",
       "      <th>1738</th>\n",
       "      <td>complete</td>\n",
       "      <td>homolog_avg</td>\n",
       "      <td>1</td>\n",
       "      <td>2.98</td>\n",
       "      <td>BME</td>\n",
       "      <td>4.925282</td>\n",
       "    </tr>\n",
       "    <tr>\n",
       "      <th>1739</th>\n",
       "      <td>complete</td>\n",
       "      <td>homolog_avg</td>\n",
       "      <td>1</td>\n",
       "      <td>2.98</td>\n",
       "      <td>MP</td>\n",
       "      <td>14.000000</td>\n",
       "    </tr>\n",
       "  </tbody>\n",
       "</table>\n",
       "<p>1740 rows × 6 columns</p>\n",
       "</div>"
      ],
      "text/plain": [
       "     linkage_cell linkage_region  max_region_diff  region_dist_scale  \\\n",
       "0        complete    homolog_avg                0               0.15   \n",
       "1        complete    homolog_avg                0               0.15   \n",
       "2        complete    homolog_avg                0               0.15   \n",
       "3        complete    homolog_avg                0               0.13   \n",
       "4        complete    homolog_avg                0               0.13   \n",
       "...           ...            ...              ...                ...   \n",
       "1735     complete    homolog_avg                1               2.99   \n",
       "1736     complete    homolog_avg                1               2.99   \n",
       "1737     complete    homolog_avg                1               2.98   \n",
       "1738     complete    homolog_avg                1               2.98   \n",
       "1739     complete    homolog_avg                1               2.98   \n",
       "\n",
       "     score metric      score  \n",
       "0              ME   7.167663  \n",
       "1             BME   5.342813  \n",
       "2              MP   8.000000  \n",
       "3              ME   7.167663  \n",
       "4             BME   5.342813  \n",
       "...           ...        ...  \n",
       "1735          BME   4.925282  \n",
       "1736           MP  14.000000  \n",
       "1737           ME  11.001096  \n",
       "1738          BME   4.925282  \n",
       "1739           MP  14.000000  \n",
       "\n",
       "[1740 rows x 6 columns]"
      ]
     },
     "execution_count": 6,
     "metadata": {},
     "output_type": "execute_result"
    }
   ],
   "source": [
    "all_scores"
   ]
  },
  {
   "cell_type": "code",
   "execution_count": 8,
   "metadata": {},
   "outputs": [
    {
     "data": {
      "text/plain": [
       "<seaborn.axisgrid.FacetGrid at 0x12d910510>"
      ]
     },
     "execution_count": 8,
     "metadata": {},
     "output_type": "execute_result"
    },
    {
     "data": {
      "image/png": "[encoded data removed]",
      "text/plain": [
       "<Figure size 476x360 with 1 Axes>"
      ]
     },
     "metadata": {
      "needs_background": "light"
     },
     "output_type": "display_data"
    }
   ],
   "source": [
    "sns.relplot(data=all_scores, x='region_dist_scale', y='score', hue='score metric', kind='line', style='max_region_diff')"
   ]
  },
  {
   "cell_type": "code",
   "execution_count": null,
   "metadata": {},
   "outputs": [],
   "source": []
  }
 ],
 "metadata": {
  "kernelspec": {
   "display_name": "Python 3",
   "language": "python",
   "name": "python3"
  },
  "language_info": {
   "codemirror_mode": {
    "name": "ipython",
    "version": 3
   },
   "file_extension": ".py",
   "mimetype": "text/x-python",
   "name": "python",
   "nbconvert_exporter": "python",
   "pygments_lexer": "ipython3",
   "version": "3.7.7"
  }
 },
 "nbformat": 4,
 "nbformat_minor": 1
}
