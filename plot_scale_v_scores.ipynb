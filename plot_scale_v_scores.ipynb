{
 "cells": [
  {
   "cell_type": "code",
   "execution_count": 1,
   "metadata": {},
   "outputs": [],
   "source": [
    "from BatchAgglomerate3D import BatchAgglomerate3D\n",
    "from data_utils import read_data\n",
    "from metric_utils import *\n",
    "import pandas as pd\n",
    "import seaborn as sns\n",
    "import matplotlib.pyplot as plt\n",
    "import numpy as np\n",
    "pd.options.display.width = 0"
   ]
  },
  {
   "cell_type": "code",
   "execution_count": 8,
   "metadata": {
    "pycharm": {
     "name": "#%%\n"
    }
   },
   "outputs": [
    {
     "name": "stderr",
     "output_type": "stream",
     "text": [
      "100%|██████████| 870/870 [00:55<00:00, 15.78it/s]\n",
      "100%|██████████| 870/870 [00:17<00:00, 48.47it/s]\n"
     ]
    }
   ],
   "source": [
    "data = read_data(['mouse'])\n",
    "agglomerate = BatchAgglomerate3D(\n",
    "    cell_type_affinity=[spearmanr_connectivity],\n",
    "    linkage_cell=['complete', 'average', 'single'],\n",
    "    linkage_region=['homolog_avg'],\n",
    "    max_region_diff=[1],\n",
    "    region_dist_scale=np.arange(0.1, 3, 0.01),\n",
    "    verbose=False\n",
    ")\n",
    "\n",
    "agglomerate.agglomerate(data)\n",
    "all_scores = agglomerate.get_all_scores()"
   ]
  },
  {
   "cell_type": "code",
   "execution_count": 3,
   "metadata": {
    "pycharm": {
     "name": "#%%\n"
    }
   },
   "outputs": [
    {
     "data": {
      "text/html": [
       "<div>\n",
       "<style scoped>\n",
       "    .dataframe tbody tr th:only-of-type {\n",
       "        vertical-align: middle;\n",
       "    }\n",
       "\n",
       "    .dataframe tbody tr th {\n",
       "        vertical-align: top;\n",
       "    }\n",
       "\n",
       "    .dataframe thead th {\n",
       "        text-align: right;\n",
       "    }\n",
       "</style>\n",
       "<table border=\"1\" class=\"dataframe\">\n",
       "  <thead>\n",
       "    <tr style=\"text-align: right;\">\n",
       "      <th></th>\n",
       "      <th>linkage_cell</th>\n",
       "      <th>linkage_region</th>\n",
       "      <th>max_region_diff</th>\n",
       "      <th>region_dist_scale</th>\n",
       "      <th>score metric</th>\n",
       "      <th>score</th>\n",
       "    </tr>\n",
       "  </thead>\n",
       "  <tbody>\n",
       "    <tr>\n",
       "      <th>0</th>\n",
       "      <td>complete</td>\n",
       "      <td>homolog_avg</td>\n",
       "      <td>0</td>\n",
       "      <td>0.20</td>\n",
       "      <td>ME</td>\n",
       "      <td>7.167663</td>\n",
       "    </tr>\n",
       "    <tr>\n",
       "      <th>1</th>\n",
       "      <td>complete</td>\n",
       "      <td>homolog_avg</td>\n",
       "      <td>0</td>\n",
       "      <td>0.20</td>\n",
       "      <td>BME</td>\n",
       "      <td>5.342813</td>\n",
       "    </tr>\n",
       "    <tr>\n",
       "      <th>2</th>\n",
       "      <td>complete</td>\n",
       "      <td>homolog_avg</td>\n",
       "      <td>0</td>\n",
       "      <td>0.20</td>\n",
       "      <td>MP</td>\n",
       "      <td>8.000000</td>\n",
       "    </tr>\n",
       "    <tr>\n",
       "      <th>3</th>\n",
       "      <td>complete</td>\n",
       "      <td>homolog_avg</td>\n",
       "      <td>0</td>\n",
       "      <td>0.13</td>\n",
       "      <td>ME</td>\n",
       "      <td>7.167663</td>\n",
       "    </tr>\n",
       "    <tr>\n",
       "      <th>4</th>\n",
       "      <td>complete</td>\n",
       "      <td>homolog_avg</td>\n",
       "      <td>0</td>\n",
       "      <td>0.13</td>\n",
       "      <td>BME</td>\n",
       "      <td>5.342813</td>\n",
       "    </tr>\n",
       "    <tr>\n",
       "      <th>...</th>\n",
       "      <td>...</td>\n",
       "      <td>...</td>\n",
       "      <td>...</td>\n",
       "      <td>...</td>\n",
       "      <td>...</td>\n",
       "      <td>...</td>\n",
       "    </tr>\n",
       "    <tr>\n",
       "      <th>1735</th>\n",
       "      <td>complete</td>\n",
       "      <td>homolog_avg</td>\n",
       "      <td>1</td>\n",
       "      <td>2.98</td>\n",
       "      <td>BME</td>\n",
       "      <td>4.925282</td>\n",
       "    </tr>\n",
       "    <tr>\n",
       "      <th>1736</th>\n",
       "      <td>complete</td>\n",
       "      <td>homolog_avg</td>\n",
       "      <td>1</td>\n",
       "      <td>2.98</td>\n",
       "      <td>MP</td>\n",
       "      <td>14.000000</td>\n",
       "    </tr>\n",
       "    <tr>\n",
       "      <th>1737</th>\n",
       "      <td>complete</td>\n",
       "      <td>homolog_avg</td>\n",
       "      <td>1</td>\n",
       "      <td>2.99</td>\n",
       "      <td>ME</td>\n",
       "      <td>11.001096</td>\n",
       "    </tr>\n",
       "    <tr>\n",
       "      <th>1738</th>\n",
       "      <td>complete</td>\n",
       "      <td>homolog_avg</td>\n",
       "      <td>1</td>\n",
       "      <td>2.99</td>\n",
       "      <td>BME</td>\n",
       "      <td>4.925282</td>\n",
       "    </tr>\n",
       "    <tr>\n",
       "      <th>1739</th>\n",
       "      <td>complete</td>\n",
       "      <td>homolog_avg</td>\n",
       "      <td>1</td>\n",
       "      <td>2.99</td>\n",
       "      <td>MP</td>\n",
       "      <td>14.000000</td>\n",
       "    </tr>\n",
       "  </tbody>\n",
       "</table>\n",
       "<p>1740 rows × 6 columns</p>\n",
       "</div>"
      ],
      "text/plain": [
       "     linkage_cell linkage_region  max_region_diff  region_dist_scale  \\\n",
       "0        complete    homolog_avg                0               0.20   \n",
       "1        complete    homolog_avg                0               0.20   \n",
       "2        complete    homolog_avg                0               0.20   \n",
       "3        complete    homolog_avg                0               0.13   \n",
       "4        complete    homolog_avg                0               0.13   \n",
       "...           ...            ...              ...                ...   \n",
       "1735     complete    homolog_avg                1               2.98   \n",
       "1736     complete    homolog_avg                1               2.98   \n",
       "1737     complete    homolog_avg                1               2.99   \n",
       "1738     complete    homolog_avg                1               2.99   \n",
       "1739     complete    homolog_avg                1               2.99   \n",
       "\n",
       "     score metric      score  \n",
       "0              ME   7.167663  \n",
       "1             BME   5.342813  \n",
       "2              MP   8.000000  \n",
       "3              ME   7.167663  \n",
       "4             BME   5.342813  \n",
       "...           ...        ...  \n",
       "1735          BME   4.925282  \n",
       "1736           MP  14.000000  \n",
       "1737           ME  11.001096  \n",
       "1738          BME   4.925282  \n",
       "1739           MP  14.000000  \n",
       "\n",
       "[1740 rows x 6 columns]"
      ]
     },
     "execution_count": 3,
     "metadata": {},
     "output_type": "execute_result"
    }
   ],
   "source": [
    "all_scores"
   ]
  },
  {
   "cell_type": "code",
   "execution_count": 9,
   "metadata": {},
   "outputs": [
    {
     "data": {
      "image/png": "[encoded data removed]",
      "text/plain": [
       "<Figure size 458x360 with 1 Axes>"
      ]
     },
     "metadata": {
      "needs_background": "light"
     },
     "output_type": "display_data"
    }
   ],
   "source": [
    "plot = sns.relplot(data=all_scores, x='region_dist_scale', y='score', hue='score metric', kind='line', style='linkage_cell')\n",
    "plot.savefig('score_v_region-dist-scale_complete-and-average_coarse.pdf')"
   ]
  },
  {
   "cell_type": "code",
   "execution_count": 2,
   "metadata": {},
   "outputs": [
    {
     "name": "stderr",
     "output_type": "stream",
     "text": [
      "100%|██████████| 2800/2800 [02:56<00:00, 15.90it/s]\n",
      "100%|██████████| 2800/2800 [00:57<00:00, 48.48it/s]\n"
     ]
    }
   ],
   "source": [
    "data = read_data(['mouse'])\n",
    "agglomerate = BatchAgglomerate3D(\n",
    "    cell_type_affinity=[spearmanr_connectivity],\n",
    "    linkage_cell=['complete'],\n",
    "    linkage_region=['homolog_avg'],\n",
    "    max_region_diff=[0, 1],\n",
    "    region_dist_scale=np.arange(0.1, 1.5, 0.001),\n",
    "    verbose=False\n",
    ")\n",
    "\n",
    "agglomerate.agglomerate(data)\n",
    "M_all_scores = agglomerate.get_all_scores()"
   ]
  },
  {
   "cell_type": "code",
   "execution_count": 3,
   "metadata": {},
   "outputs": [
    {
     "ename": "NameError",
     "evalue": "name 'all_scores' is not defined",
     "output_type": "error",
     "traceback": [
      "\u001B[0;31m---------------------------------------------------------------------------\u001B[0m",
      "\u001B[0;31mNameError\u001B[0m                                 Traceback (most recent call last)",
      "\u001B[0;32m<ipython-input-3-10234432e7c6>\u001B[0m in \u001B[0;36m<module>\u001B[0;34m\u001B[0m\n\u001B[0;32m----> 1\u001B[0;31m \u001B[0mplot\u001B[0m \u001B[0;34m=\u001B[0m \u001B[0msns\u001B[0m\u001B[0;34m.\u001B[0m\u001B[0mrelplot\u001B[0m\u001B[0;34m(\u001B[0m\u001B[0mdata\u001B[0m\u001B[0;34m=\u001B[0m\u001B[0mall_scores\u001B[0m\u001B[0;34m,\u001B[0m \u001B[0mx\u001B[0m\u001B[0;34m=\u001B[0m\u001B[0;34m'region_dist_scale'\u001B[0m\u001B[0;34m,\u001B[0m \u001B[0my\u001B[0m\u001B[0;34m=\u001B[0m\u001B[0;34m'score'\u001B[0m\u001B[0;34m,\u001B[0m \u001B[0mhue\u001B[0m\u001B[0;34m=\u001B[0m\u001B[0;34m'score metric'\u001B[0m\u001B[0;34m,\u001B[0m \u001B[0mkind\u001B[0m\u001B[0;34m=\u001B[0m\u001B[0;34m'line'\u001B[0m\u001B[0;34m,\u001B[0m \u001B[0mstyle\u001B[0m\u001B[0;34m=\u001B[0m\u001B[0;34m'max_region_diff'\u001B[0m\u001B[0;34m)\u001B[0m\u001B[0;34m\u001B[0m\u001B[0;34m\u001B[0m\u001B[0m\n\u001B[0m\u001B[1;32m      2\u001B[0m \u001B[0mplot\u001B[0m\u001B[0;34m.\u001B[0m\u001B[0msavefig\u001B[0m\u001B[0;34m(\u001B[0m\u001B[0;34m'score_v_region-dist-scale_fine.pdf'\u001B[0m\u001B[0;34m)\u001B[0m\u001B[0;34m\u001B[0m\u001B[0;34m\u001B[0m\u001B[0m\n",
      "\u001B[0;31mNameError\u001B[0m: name 'all_scores' is not defined"
     ]
    }
   ],
   "source": [
    "plot = sns.relplot(data=all_scores, x='region_dist_scale', y='score', hue='score metric', kind='line', style='max_region_diff')\n",
    "plot.savefig('score_v_region-dist-scale_fine.pdf')"
   ]
  },
  {
   "cell_type": "code",
   "execution_count": null,
   "metadata": {},
   "outputs": [
    {
     "name": "stderr",
     "output_type": "stream",
     "text": [
      " 25%|██▌       | 703/2800 [00:49<03:21, 10.41it/s] "
     ]
    }
   ],
   "source": [
    "data = read_data(['chicken'])\n",
    "agglomerate = BatchAgglomerate3D(\n",
    "    cell_type_affinity=[spearmanr_connectivity],\n",
    "    linkage_cell=['complete'],\n",
    "    linkage_region=['homolog_avg'],\n",
    "    max_region_diff=[0, 1],\n",
    "    region_dist_scale=np.arange(0.1, 1.5, 0.001),\n",
    "    verbose=False\n",
    ")\n",
    "\n",
    "agglomerate.agglomerate(data)\n",
    "C_all_scores = agglomerate.get_all_scores()"
   ]
  },
  {
   "cell_type": "code",
   "execution_count": null,
   "metadata": {},
   "outputs": [],
   "source": [
    "plot = sns.relplot(data=C_all_scores, x='region_dist_scale', y='score', hue='score metric', kind='line', style='max_region_diff')\n",
    "plot.set(title='Chicken')\n",
    "plot.savefig('C_score_v_region-dist-scale_fine.pdf')"
   ]
  },
  {
   "cell_type": "code",
   "execution_count": null,
   "metadata": {},
   "outputs": [],
   "source": [
    "plot = sns.relplot(data=C_all_scores[C_all_scores['score metric'] == 'BME'], x='region_dist_scale', y='score', hue='score metric', kind='line', style='max_region_diff')\n",
    "plot.set(title='Chicken')\n",
    "plot.savefig('C_BME_score_v_region-dist-scale_fine.pdf')"
   ]
  },
  {
   "cell_type": "code",
   "execution_count": null,
   "metadata": {},
   "outputs": [],
   "source": [
    "M_all_scores['animal'] = ['mouse'] * len(M_all_scores.index)"
   ]
  },
  {
   "cell_type": "code",
   "execution_count": null,
   "metadata": {},
   "outputs": [],
   "source": [
    "C_all_scores['animal'] = ['chicken'] * len(C_all_scores.index)"
   ]
  },
  {
   "cell_type": "code",
   "execution_count": null,
   "metadata": {},
   "outputs": [],
   "source": [
    "MC_all_scores = pd.concat([M_all_scores, C_all_scores])\n",
    "MC_all_scores_BME = MC_all_scores.loc[MC_all_scores['score metric'] == 'BME']\n",
    "M_all_scores_BME = M_all_scores.loc[M_all_scores['score metric'] == 'BME']\n",
    "C_all_scores_BME = C_all_scores.loc[C_all_scores['score metric'] == 'BME']"
   ]
  },
  {
   "cell_type": "code",
   "execution_count": null,
   "metadata": {},
   "outputs": [],
   "source": [
    "plot = sns.lineplot(data=M_all_scores_BME, x='region_dist_scale', y='score', style='max_region_diff')\n",
    "ax2 = plot.twinx()\n",
    "plot = sns.lineplot(data=C_all_scores_BME, x='region_dist_scale', y='score', style='max_region_diff', ax=ax2, color=(1, .5, 0))\n",
    "plot.set(title='Mouse (blue) and chicken (orange)')\n",
    "plt.savefig('MC_BME_score_v_region-dist-scale.pdf')"
   ]
  },
  {
   "cell_type": "code",
   "execution_count": null,
   "metadata": {},
   "outputs": [],
   "source": [
    "plot = sns.lineplot(data=M_all_scores_BME[M_all_scores_BME['max_region_diff'] == 0], x='region_dist_scale', y='score')\n",
    "ax2 = plot.twinx()\n",
    "plot = sns.lineplot(data=C_all_scores_BME[C_all_scores_BME['max_region_diff'] == 0], x='region_dist_scale', y='score', ax=ax2, color=(1, .5, 0))\n",
    "plot.set(title='Mouse (blue) and chicken (orange)')\n",
    "plt.savefig('MC_BME_1-max-region-diff_score_v_region-dist-scale.pdf')"
   ]
  },
  {
   "cell_type": "code",
   "execution_count": null,
   "metadata": {},
   "outputs": [],
   "source": []
  }
 ],
 "metadata": {
  "kernelspec": {
   "display_name": "Python 3",
   "language": "python",
   "name": "python3"
  },
  "language_info": {
   "codemirror_mode": {
    "name": "ipython",
    "version": 3
   },
   "file_extension": ".py",
   "mimetype": "text/x-python",
   "name": "python",
   "nbconvert_exporter": "python",
   "pygments_lexer": "ipython3",
   "version": "3.8.3"
  }
 },
 "nbformat": 4,
 "nbformat_minor": 1
}